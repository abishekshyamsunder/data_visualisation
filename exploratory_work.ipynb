{
 "cells": [
  {
   "cell_type": "code",
   "execution_count": 5,
   "metadata": {},
   "outputs": [],
   "source": [
    "import numpy as np\n",
    "import pandas as pd\n",
    "import matplotlib.pyplot as plt\n",
    "import seaborn as sb\n",
    "import geopy.distance\n",
    "from datetime import datetime\n",
    "%matplotlib inline"
   ]
  },
  {
   "cell_type": "markdown",
   "metadata": {},
   "source": [
    "As this project is primarily based on visualising the data, the `Ford GoBike System Data` for the year 2017 has been downloaded, unzipped and provided as `bikedata2017.csv` and the code for this process has not been provided"
   ]
  },
  {
   "cell_type": "markdown",
   "metadata": {},
   "source": [
    "## Preparing Data for analysis"
   ]
  },
  {
   "cell_type": "code",
   "execution_count": 33,
   "metadata": {},
   "outputs": [
    {
     "data": {
      "text/html": [
       "<div>\n",
       "<style scoped>\n",
       "    .dataframe tbody tr th:only-of-type {\n",
       "        vertical-align: middle;\n",
       "    }\n",
       "\n",
       "    .dataframe tbody tr th {\n",
       "        vertical-align: top;\n",
       "    }\n",
       "\n",
       "    .dataframe thead th {\n",
       "        text-align: right;\n",
       "    }\n",
       "</style>\n",
       "<table border=\"1\" class=\"dataframe\">\n",
       "  <thead>\n",
       "    <tr style=\"text-align: right;\">\n",
       "      <th></th>\n",
       "      <th>duration_sec</th>\n",
       "      <th>start_time</th>\n",
       "      <th>end_time</th>\n",
       "      <th>start_station_id</th>\n",
       "      <th>start_station_name</th>\n",
       "      <th>start_station_latitude</th>\n",
       "      <th>start_station_longitude</th>\n",
       "      <th>end_station_id</th>\n",
       "      <th>end_station_name</th>\n",
       "      <th>end_station_latitude</th>\n",
       "      <th>end_station_longitude</th>\n",
       "      <th>bike_id</th>\n",
       "      <th>user_type</th>\n",
       "    </tr>\n",
       "  </thead>\n",
       "  <tbody>\n",
       "    <tr>\n",
       "      <th>519695</th>\n",
       "      <td>435</td>\n",
       "      <td>2017-06-28 10:00:54.5280</td>\n",
       "      <td>2017-06-28 10:08:10.4380</td>\n",
       "      <td>81</td>\n",
       "      <td>Berry St at 4th St</td>\n",
       "      <td>37.775880</td>\n",
       "      <td>-122.393170</td>\n",
       "      <td>45</td>\n",
       "      <td>5th St at Howard St</td>\n",
       "      <td>37.781752</td>\n",
       "      <td>-122.405127</td>\n",
       "      <td>400</td>\n",
       "      <td>Subscriber</td>\n",
       "    </tr>\n",
       "    <tr>\n",
       "      <th>519696</th>\n",
       "      <td>431</td>\n",
       "      <td>2017-06-28 09:56:39.6310</td>\n",
       "      <td>2017-06-28 10:03:51.0900</td>\n",
       "      <td>66</td>\n",
       "      <td>3rd St at Townsend St</td>\n",
       "      <td>37.778742</td>\n",
       "      <td>-122.392741</td>\n",
       "      <td>321</td>\n",
       "      <td>5th at Folsom</td>\n",
       "      <td>37.780146</td>\n",
       "      <td>-122.403071</td>\n",
       "      <td>316</td>\n",
       "      <td>Subscriber</td>\n",
       "    </tr>\n",
       "    <tr>\n",
       "      <th>519697</th>\n",
       "      <td>424</td>\n",
       "      <td>2017-06-28 09:47:36.3470</td>\n",
       "      <td>2017-06-28 09:54:41.1870</td>\n",
       "      <td>21</td>\n",
       "      <td>Montgomery St BART Station (Market St at 2nd St)</td>\n",
       "      <td>37.789625</td>\n",
       "      <td>-122.400811</td>\n",
       "      <td>48</td>\n",
       "      <td>2nd St at S Park St</td>\n",
       "      <td>37.782411</td>\n",
       "      <td>-122.392706</td>\n",
       "      <td>240</td>\n",
       "      <td>Subscriber</td>\n",
       "    </tr>\n",
       "    <tr>\n",
       "      <th>519698</th>\n",
       "      <td>366</td>\n",
       "      <td>2017-06-28 09:47:41.6640</td>\n",
       "      <td>2017-06-28 09:53:47.7150</td>\n",
       "      <td>58</td>\n",
       "      <td>Market St at 10th St</td>\n",
       "      <td>37.776619</td>\n",
       "      <td>-122.417385</td>\n",
       "      <td>59</td>\n",
       "      <td>S Van Ness Ave at Market St</td>\n",
       "      <td>37.774814</td>\n",
       "      <td>-122.418954</td>\n",
       "      <td>669</td>\n",
       "      <td>Subscriber</td>\n",
       "    </tr>\n",
       "    <tr>\n",
       "      <th>519699</th>\n",
       "      <td>188</td>\n",
       "      <td>2017-06-28 09:49:46.3770</td>\n",
       "      <td>2017-06-28 09:52:55.3380</td>\n",
       "      <td>25</td>\n",
       "      <td>Howard St at 2nd St</td>\n",
       "      <td>37.787522</td>\n",
       "      <td>-122.397405</td>\n",
       "      <td>48</td>\n",
       "      <td>2nd St at S Park St</td>\n",
       "      <td>37.782411</td>\n",
       "      <td>-122.392706</td>\n",
       "      <td>117</td>\n",
       "      <td>Subscriber</td>\n",
       "    </tr>\n",
       "  </tbody>\n",
       "</table>\n",
       "</div>"
      ],
      "text/plain": [
       "        duration_sec                start_time                  end_time  \\\n",
       "519695           435  2017-06-28 10:00:54.5280  2017-06-28 10:08:10.4380   \n",
       "519696           431  2017-06-28 09:56:39.6310  2017-06-28 10:03:51.0900   \n",
       "519697           424  2017-06-28 09:47:36.3470  2017-06-28 09:54:41.1870   \n",
       "519698           366  2017-06-28 09:47:41.6640  2017-06-28 09:53:47.7150   \n",
       "519699           188  2017-06-28 09:49:46.3770  2017-06-28 09:52:55.3380   \n",
       "\n",
       "        start_station_id                                start_station_name  \\\n",
       "519695                81                                Berry St at 4th St   \n",
       "519696                66                             3rd St at Townsend St   \n",
       "519697                21  Montgomery St BART Station (Market St at 2nd St)   \n",
       "519698                58                              Market St at 10th St   \n",
       "519699                25                               Howard St at 2nd St   \n",
       "\n",
       "        start_station_latitude  start_station_longitude  end_station_id  \\\n",
       "519695               37.775880              -122.393170              45   \n",
       "519696               37.778742              -122.392741             321   \n",
       "519697               37.789625              -122.400811              48   \n",
       "519698               37.776619              -122.417385              59   \n",
       "519699               37.787522              -122.397405              48   \n",
       "\n",
       "                   end_station_name  end_station_latitude  \\\n",
       "519695          5th St at Howard St             37.781752   \n",
       "519696                5th at Folsom             37.780146   \n",
       "519697          2nd St at S Park St             37.782411   \n",
       "519698  S Van Ness Ave at Market St             37.774814   \n",
       "519699          2nd St at S Park St             37.782411   \n",
       "\n",
       "        end_station_longitude  bike_id   user_type  \n",
       "519695            -122.405127      400  Subscriber  \n",
       "519696            -122.403071      316  Subscriber  \n",
       "519697            -122.392706      240  Subscriber  \n",
       "519698            -122.418954      669  Subscriber  \n",
       "519699            -122.392706      117  Subscriber  "
      ]
     },
     "execution_count": 33,
     "metadata": {},
     "output_type": "execute_result"
    }
   ],
   "source": [
    "df = pd.read_csv('bikedata2017.csv')\n",
    "df.tail()"
   ]
  },
  {
   "cell_type": "code",
   "execution_count": 4,
   "metadata": {},
   "outputs": [
    {
     "name": "stdout",
     "output_type": "stream",
     "text": [
      "<class 'pandas.core.frame.DataFrame'>\n",
      "RangeIndex: 519700 entries, 0 to 519699\n",
      "Data columns (total 13 columns):\n",
      " #   Column                   Non-Null Count   Dtype  \n",
      "---  ------                   --------------   -----  \n",
      " 0   duration_sec             519700 non-null  int64  \n",
      " 1   start_time               519700 non-null  object \n",
      " 2   end_time                 519700 non-null  object \n",
      " 3   start_station_id         519700 non-null  int64  \n",
      " 4   start_station_name       519700 non-null  object \n",
      " 5   start_station_latitude   519700 non-null  float64\n",
      " 6   start_station_longitude  519700 non-null  float64\n",
      " 7   end_station_id           519700 non-null  int64  \n",
      " 8   end_station_name         519700 non-null  object \n",
      " 9   end_station_latitude     519700 non-null  float64\n",
      " 10  end_station_longitude    519700 non-null  float64\n",
      " 11  bike_id                  519700 non-null  int64  \n",
      " 12  user_type                519700 non-null  object \n",
      "dtypes: float64(4), int64(4), object(5)\n",
      "memory usage: 51.5+ MB\n"
     ]
    }
   ],
   "source": [
    "df.info()"
   ]
  },
  {
   "cell_type": "markdown",
   "metadata": {},
   "source": [
    "Before we ask our questions, let us convert the data to the format which we want.\n",
    "- I want the date variable to be changed from string format  \n",
    "- I want the distance in kilometers using the latitude and longitude data for each ride"
   ]
  },
  {
   "cell_type": "code",
   "execution_count": 132,
   "metadata": {},
   "outputs": [
    {
     "data": {
      "text/plain": [
       "array([12, 11, 10,  9,  8,  7,  6,  1,  2,  3,  4,  5])"
      ]
     },
     "execution_count": 132,
     "metadata": {},
     "output_type": "execute_result"
    }
   ],
   "source": [
    "days_of_week = ['Monday','Tuesday','Wednesday','Thursday','Friday','Saturday','Sunday']\n",
    "def convert_to_date_obj_month(time_as_string):\n",
    "    datetime_object = datetime.strptime(time_as_string, '%Y-%m-%d %H:%M:%S.%f')\n",
    "    return datetime_object.date().month\n",
    "\n",
    "def convert_to_date_obj_year(time_as_string):\n",
    "    datetime_object = datetime.strptime(time_as_string, '%Y-%m-%d %H:%M:%S.%f')\n",
    "    return datetime_object.date().year\n",
    "\n",
    "def convert_to_date_obj_day(time_as_string):\n",
    "    datetime_object = datetime.strptime(time_as_string, '%Y-%m-%d %H:%M:%S.%f')\n",
    "    return datetime_object.date().day\n",
    "\n",
    "def convert_to_date_obj_hour(time_as_string):\n",
    "    datetime_object = datetime.strptime(time_as_string, '%Y-%m-%d %H:%M:%S.%f')\n",
    "    return datetime_object.time().hour\n",
    "\n",
    "def convert_to_date_obj_weekday(time_as_string):\n",
    "    datetime_object = datetime.strptime(time_as_string, '%Y-%m-%d %H:%M:%S.%f')\n",
    "    return days_of_week[datetime_object.date().weekday()]\n",
    "\n",
    "months = df.start_time.apply(convert_to_date_obj_month)\n",
    "months.unique()"
   ]
  },
  {
   "cell_type": "markdown",
   "metadata": {},
   "source": [
    "Clearly, we can see that this has data only from June to December of 2017.  \n",
    "It would be nice to have 1 year's data.  \n",
    "We can use data for January-May of 2018, so that we have covered 12 months"
   ]
  },
  {
   "cell_type": "code",
   "execution_count": 34,
   "metadata": {},
   "outputs": [],
   "source": [
    "temp_df = pd.read_csv('bikedata2018_1.csv')\n",
    "df = df.append(temp_df)\n",
    "temp_df = pd.read_csv('bikedata2018_2.csv')\n",
    "df = df.append(temp_df)\n",
    "temp_df = pd.read_csv('bikedata2018_3.csv')\n",
    "df = df.append(temp_df)\n",
    "temp_df = pd.read_csv('bikedata2018_4.csv')\n",
    "df = df.append(temp_df)\n",
    "temp_df = pd.read_csv('bikedata2018_5.csv')\n",
    "df = df.append(temp_df)"
   ]
  },
  {
   "cell_type": "code",
   "execution_count": 35,
   "metadata": {},
   "outputs": [
    {
     "data": {
      "text/plain": [
       "array([12, 11, 10,  9,  8,  7,  6,  1,  2,  3,  4,  5])"
      ]
     },
     "execution_count": 35,
     "metadata": {},
     "output_type": "execute_result"
    }
   ],
   "source": [
    "months = df.start_time.apply(convert_to_date_obj_month)\n",
    "months.unique()"
   ]
  },
  {
   "cell_type": "markdown",
   "metadata": {},
   "source": [
    "Now that we have every month in our dataset, let us create addition columns as per our requirement, for ease of Data Analysis."
   ]
  },
  {
   "cell_type": "markdown",
   "metadata": {},
   "source": [
    "First, let us create the ones corresponding to time"
   ]
  },
  {
   "cell_type": "code",
   "execution_count": 41,
   "metadata": {},
   "outputs": [],
   "source": [
    "df['year'] = df.start_time.apply(convert_to_date_obj_year)\n",
    "df['month'] = df.start_time.apply(convert_to_date_obj_month)\n",
    "df['hour'] = df.start_time.apply(convert_to_date_obj_hour)\n",
    "df['day'] = df.start_time.apply(convert_to_date_obj_weekday)"
   ]
  },
  {
   "cell_type": "code",
   "execution_count": 133,
   "metadata": {},
   "outputs": [],
   "source": [
    "df['date_day'] = df.start_time.apply(convert_to_date_obj_day)"
   ]
  },
  {
   "cell_type": "markdown",
   "metadata": {},
   "source": [
    "Now, let us create the one corresponding to distance"
   ]
  },
  {
   "cell_type": "code",
   "execution_count": 44,
   "metadata": {},
   "outputs": [
    {
     "data": {
      "text/html": [
       "<div>\n",
       "<style scoped>\n",
       "    .dataframe tbody tr th:only-of-type {\n",
       "        vertical-align: middle;\n",
       "    }\n",
       "\n",
       "    .dataframe tbody tr th {\n",
       "        vertical-align: top;\n",
       "    }\n",
       "\n",
       "    .dataframe thead th {\n",
       "        text-align: right;\n",
       "    }\n",
       "</style>\n",
       "<table border=\"1\" class=\"dataframe\">\n",
       "  <thead>\n",
       "    <tr style=\"text-align: right;\">\n",
       "      <th></th>\n",
       "      <th>duration_sec</th>\n",
       "      <th>start_time</th>\n",
       "      <th>end_time</th>\n",
       "      <th>start_station_id</th>\n",
       "      <th>start_station_name</th>\n",
       "      <th>start_station_latitude</th>\n",
       "      <th>start_station_longitude</th>\n",
       "      <th>end_station_id</th>\n",
       "      <th>end_station_name</th>\n",
       "      <th>end_station_latitude</th>\n",
       "      <th>end_station_longitude</th>\n",
       "      <th>bike_id</th>\n",
       "      <th>user_type</th>\n",
       "      <th>bike_share_for_all_trip</th>\n",
       "      <th>year</th>\n",
       "      <th>month</th>\n",
       "      <th>hour</th>\n",
       "      <th>day</th>\n",
       "    </tr>\n",
       "  </thead>\n",
       "  <tbody>\n",
       "    <tr>\n",
       "      <th>0</th>\n",
       "      <td>80110</td>\n",
       "      <td>2017-12-31 16:57:39.6540</td>\n",
       "      <td>2018-01-01 15:12:50.2450</td>\n",
       "      <td>74</td>\n",
       "      <td>Laguna St at Hayes St</td>\n",
       "      <td>37.776435</td>\n",
       "      <td>-122.426244</td>\n",
       "      <td>43</td>\n",
       "      <td>San Francisco Public Library (Grove St at Hyde...</td>\n",
       "      <td>37.778768</td>\n",
       "      <td>-122.415929</td>\n",
       "      <td>96</td>\n",
       "      <td>Customer</td>\n",
       "      <td>NaN</td>\n",
       "      <td>2017</td>\n",
       "      <td>12</td>\n",
       "      <td>16</td>\n",
       "      <td>Sunday</td>\n",
       "    </tr>\n",
       "    <tr>\n",
       "      <th>1</th>\n",
       "      <td>78800</td>\n",
       "      <td>2017-12-31 15:56:34.8420</td>\n",
       "      <td>2018-01-01 13:49:55.6170</td>\n",
       "      <td>284</td>\n",
       "      <td>Yerba Buena Center for the Arts (Howard St at ...</td>\n",
       "      <td>37.784872</td>\n",
       "      <td>-122.400876</td>\n",
       "      <td>96</td>\n",
       "      <td>Dolores St at 15th St</td>\n",
       "      <td>37.766210</td>\n",
       "      <td>-122.426614</td>\n",
       "      <td>88</td>\n",
       "      <td>Customer</td>\n",
       "      <td>NaN</td>\n",
       "      <td>2017</td>\n",
       "      <td>12</td>\n",
       "      <td>15</td>\n",
       "      <td>Sunday</td>\n",
       "    </tr>\n",
       "    <tr>\n",
       "      <th>2</th>\n",
       "      <td>45768</td>\n",
       "      <td>2017-12-31 22:45:48.4110</td>\n",
       "      <td>2018-01-01 11:28:36.8830</td>\n",
       "      <td>245</td>\n",
       "      <td>Downtown Berkeley BART</td>\n",
       "      <td>37.870348</td>\n",
       "      <td>-122.267764</td>\n",
       "      <td>245</td>\n",
       "      <td>Downtown Berkeley BART</td>\n",
       "      <td>37.870348</td>\n",
       "      <td>-122.267764</td>\n",
       "      <td>1094</td>\n",
       "      <td>Customer</td>\n",
       "      <td>NaN</td>\n",
       "      <td>2017</td>\n",
       "      <td>12</td>\n",
       "      <td>22</td>\n",
       "      <td>Sunday</td>\n",
       "    </tr>\n",
       "    <tr>\n",
       "      <th>3</th>\n",
       "      <td>62172</td>\n",
       "      <td>2017-12-31 17:31:10.6360</td>\n",
       "      <td>2018-01-01 10:47:23.5310</td>\n",
       "      <td>60</td>\n",
       "      <td>8th St at Ringold St</td>\n",
       "      <td>37.774520</td>\n",
       "      <td>-122.409449</td>\n",
       "      <td>5</td>\n",
       "      <td>Powell St BART Station (Market St at 5th St)</td>\n",
       "      <td>37.783899</td>\n",
       "      <td>-122.408445</td>\n",
       "      <td>2831</td>\n",
       "      <td>Customer</td>\n",
       "      <td>NaN</td>\n",
       "      <td>2017</td>\n",
       "      <td>12</td>\n",
       "      <td>17</td>\n",
       "      <td>Sunday</td>\n",
       "    </tr>\n",
       "    <tr>\n",
       "      <th>4</th>\n",
       "      <td>43603</td>\n",
       "      <td>2017-12-31 14:23:14.0010</td>\n",
       "      <td>2018-01-01 02:29:57.5710</td>\n",
       "      <td>239</td>\n",
       "      <td>Bancroft Way at Telegraph Ave</td>\n",
       "      <td>37.868813</td>\n",
       "      <td>-122.258764</td>\n",
       "      <td>247</td>\n",
       "      <td>Fulton St at Bancroft Way</td>\n",
       "      <td>37.867789</td>\n",
       "      <td>-122.265896</td>\n",
       "      <td>3167</td>\n",
       "      <td>Subscriber</td>\n",
       "      <td>NaN</td>\n",
       "      <td>2017</td>\n",
       "      <td>12</td>\n",
       "      <td>14</td>\n",
       "      <td>Sunday</td>\n",
       "    </tr>\n",
       "  </tbody>\n",
       "</table>\n",
       "</div>"
      ],
      "text/plain": [
       "   duration_sec                start_time                  end_time  \\\n",
       "0         80110  2017-12-31 16:57:39.6540  2018-01-01 15:12:50.2450   \n",
       "1         78800  2017-12-31 15:56:34.8420  2018-01-01 13:49:55.6170   \n",
       "2         45768  2017-12-31 22:45:48.4110  2018-01-01 11:28:36.8830   \n",
       "3         62172  2017-12-31 17:31:10.6360  2018-01-01 10:47:23.5310   \n",
       "4         43603  2017-12-31 14:23:14.0010  2018-01-01 02:29:57.5710   \n",
       "\n",
       "   start_station_id                                 start_station_name  \\\n",
       "0                74                              Laguna St at Hayes St   \n",
       "1               284  Yerba Buena Center for the Arts (Howard St at ...   \n",
       "2               245                             Downtown Berkeley BART   \n",
       "3                60                               8th St at Ringold St   \n",
       "4               239                      Bancroft Way at Telegraph Ave   \n",
       "\n",
       "   start_station_latitude  start_station_longitude  end_station_id  \\\n",
       "0               37.776435              -122.426244              43   \n",
       "1               37.784872              -122.400876              96   \n",
       "2               37.870348              -122.267764             245   \n",
       "3               37.774520              -122.409449               5   \n",
       "4               37.868813              -122.258764             247   \n",
       "\n",
       "                                    end_station_name  end_station_latitude  \\\n",
       "0  San Francisco Public Library (Grove St at Hyde...             37.778768   \n",
       "1                              Dolores St at 15th St             37.766210   \n",
       "2                             Downtown Berkeley BART             37.870348   \n",
       "3       Powell St BART Station (Market St at 5th St)             37.783899   \n",
       "4                          Fulton St at Bancroft Way             37.867789   \n",
       "\n",
       "   end_station_longitude  bike_id   user_type bike_share_for_all_trip  year  \\\n",
       "0            -122.415929       96    Customer                     NaN  2017   \n",
       "1            -122.426614       88    Customer                     NaN  2017   \n",
       "2            -122.267764     1094    Customer                     NaN  2017   \n",
       "3            -122.408445     2831    Customer                     NaN  2017   \n",
       "4            -122.265896     3167  Subscriber                     NaN  2017   \n",
       "\n",
       "   month  hour     day  \n",
       "0     12    16  Sunday  \n",
       "1     12    15  Sunday  \n",
       "2     12    22  Sunday  \n",
       "3     12    17  Sunday  \n",
       "4     12    14  Sunday  "
      ]
     },
     "execution_count": 44,
     "metadata": {},
     "output_type": "execute_result"
    }
   ],
   "source": [
    "df.head()"
   ]
  },
  {
   "cell_type": "code",
   "execution_count": 150,
   "metadata": {},
   "outputs": [
    {
     "name": "stdout",
     "output_type": "stream",
     "text": [
      "<class 'pandas.core.frame.DataFrame'>\n",
      "Int64Index: 1142896 entries, 0 to 179124\n",
      "Data columns (total 20 columns):\n",
      " #   Column                   Non-Null Count    Dtype  \n",
      "---  ------                   --------------    -----  \n",
      " 0   duration_sec             1142896 non-null  int64  \n",
      " 1   start_time               1142896 non-null  object \n",
      " 2   end_time                 1142896 non-null  object \n",
      " 3   start_station_id         1142896 non-null  int64  \n",
      " 4   start_station_name       1142896 non-null  object \n",
      " 5   start_station_latitude   1142896 non-null  float64\n",
      " 6   start_station_longitude  1142896 non-null  float64\n",
      " 7   end_station_id           1142896 non-null  int64  \n",
      " 8   end_station_name         1142896 non-null  object \n",
      " 9   end_station_latitude     1142896 non-null  float64\n",
      " 10  end_station_longitude    1142896 non-null  float64\n",
      " 11  bike_id                  1142896 non-null  int64  \n",
      " 12  user_type                1142896 non-null  object \n",
      " 13  bike_share_for_all_trip  623196 non-null   object \n",
      " 14  year                     1142896 non-null  int64  \n",
      " 15  month                    1142896 non-null  int64  \n",
      " 16  hour                     1142896 non-null  int64  \n",
      " 17  day                      1142896 non-null  object \n",
      " 18  distance                 1142896 non-null  float64\n",
      " 19  date_day                 1142896 non-null  int64  \n",
      "dtypes: float64(5), int64(8), object(7)\n",
      "memory usage: 223.1+ MB\n"
     ]
    }
   ],
   "source": [
    "df.info()"
   ]
  },
  {
   "cell_type": "code",
   "execution_count": 1,
   "metadata": {},
   "outputs": [],
   "source": [
    "dist = []\n",
    "for i in range(df.shape[0]):\n",
    "    coords_1 = (df.iloc[i].start_station_latitude, df.iloc[i].start_station_longitude)    \n",
    "    coords_2 = (df.iloc[i].end_station_latitude, df.iloc[i].end_station_longitude)\n",
    "    dd = geopy.distance.distance(coords_1, coords_2).km\n",
    "    #print(i,': ',dd)\n",
    "    dist.append(dd)"
   ]
  },
  {
   "cell_type": "code",
   "execution_count": 56,
   "metadata": {},
   "outputs": [],
   "source": [
    "dist = pd.Series(dist)\n",
    "df['distance'] = dist"
   ]
  },
  {
   "cell_type": "code",
   "execution_count": 57,
   "metadata": {},
   "outputs": [
    {
     "data": {
      "text/html": [
       "<div>\n",
       "<style scoped>\n",
       "    .dataframe tbody tr th:only-of-type {\n",
       "        vertical-align: middle;\n",
       "    }\n",
       "\n",
       "    .dataframe tbody tr th {\n",
       "        vertical-align: top;\n",
       "    }\n",
       "\n",
       "    .dataframe thead th {\n",
       "        text-align: right;\n",
       "    }\n",
       "</style>\n",
       "<table border=\"1\" class=\"dataframe\">\n",
       "  <thead>\n",
       "    <tr style=\"text-align: right;\">\n",
       "      <th></th>\n",
       "      <th>duration_sec</th>\n",
       "      <th>start_time</th>\n",
       "      <th>end_time</th>\n",
       "      <th>start_station_id</th>\n",
       "      <th>start_station_name</th>\n",
       "      <th>start_station_latitude</th>\n",
       "      <th>start_station_longitude</th>\n",
       "      <th>end_station_id</th>\n",
       "      <th>end_station_name</th>\n",
       "      <th>end_station_latitude</th>\n",
       "      <th>end_station_longitude</th>\n",
       "      <th>bike_id</th>\n",
       "      <th>user_type</th>\n",
       "      <th>bike_share_for_all_trip</th>\n",
       "      <th>year</th>\n",
       "      <th>month</th>\n",
       "      <th>hour</th>\n",
       "      <th>day</th>\n",
       "      <th>distance</th>\n",
       "    </tr>\n",
       "  </thead>\n",
       "  <tbody>\n",
       "    <tr>\n",
       "      <th>0</th>\n",
       "      <td>80110</td>\n",
       "      <td>2017-12-31 16:57:39.6540</td>\n",
       "      <td>2018-01-01 15:12:50.2450</td>\n",
       "      <td>74</td>\n",
       "      <td>Laguna St at Hayes St</td>\n",
       "      <td>37.776435</td>\n",
       "      <td>-122.426244</td>\n",
       "      <td>43</td>\n",
       "      <td>San Francisco Public Library (Grove St at Hyde...</td>\n",
       "      <td>37.778768</td>\n",
       "      <td>-122.415929</td>\n",
       "      <td>96</td>\n",
       "      <td>Customer</td>\n",
       "      <td>NaN</td>\n",
       "      <td>2017</td>\n",
       "      <td>12</td>\n",
       "      <td>16</td>\n",
       "      <td>Sunday</td>\n",
       "      <td>0.944876</td>\n",
       "    </tr>\n",
       "    <tr>\n",
       "      <th>1</th>\n",
       "      <td>78800</td>\n",
       "      <td>2017-12-31 15:56:34.8420</td>\n",
       "      <td>2018-01-01 13:49:55.6170</td>\n",
       "      <td>284</td>\n",
       "      <td>Yerba Buena Center for the Arts (Howard St at ...</td>\n",
       "      <td>37.784872</td>\n",
       "      <td>-122.400876</td>\n",
       "      <td>96</td>\n",
       "      <td>Dolores St at 15th St</td>\n",
       "      <td>37.766210</td>\n",
       "      <td>-122.426614</td>\n",
       "      <td>88</td>\n",
       "      <td>Customer</td>\n",
       "      <td>NaN</td>\n",
       "      <td>2017</td>\n",
       "      <td>12</td>\n",
       "      <td>15</td>\n",
       "      <td>Sunday</td>\n",
       "      <td>3.071144</td>\n",
       "    </tr>\n",
       "    <tr>\n",
       "      <th>2</th>\n",
       "      <td>45768</td>\n",
       "      <td>2017-12-31 22:45:48.4110</td>\n",
       "      <td>2018-01-01 11:28:36.8830</td>\n",
       "      <td>245</td>\n",
       "      <td>Downtown Berkeley BART</td>\n",
       "      <td>37.870348</td>\n",
       "      <td>-122.267764</td>\n",
       "      <td>245</td>\n",
       "      <td>Downtown Berkeley BART</td>\n",
       "      <td>37.870348</td>\n",
       "      <td>-122.267764</td>\n",
       "      <td>1094</td>\n",
       "      <td>Customer</td>\n",
       "      <td>NaN</td>\n",
       "      <td>2017</td>\n",
       "      <td>12</td>\n",
       "      <td>22</td>\n",
       "      <td>Sunday</td>\n",
       "      <td>0.000000</td>\n",
       "    </tr>\n",
       "    <tr>\n",
       "      <th>3</th>\n",
       "      <td>62172</td>\n",
       "      <td>2017-12-31 17:31:10.6360</td>\n",
       "      <td>2018-01-01 10:47:23.5310</td>\n",
       "      <td>60</td>\n",
       "      <td>8th St at Ringold St</td>\n",
       "      <td>37.774520</td>\n",
       "      <td>-122.409449</td>\n",
       "      <td>5</td>\n",
       "      <td>Powell St BART Station (Market St at 5th St)</td>\n",
       "      <td>37.783899</td>\n",
       "      <td>-122.408445</td>\n",
       "      <td>2831</td>\n",
       "      <td>Customer</td>\n",
       "      <td>NaN</td>\n",
       "      <td>2017</td>\n",
       "      <td>12</td>\n",
       "      <td>17</td>\n",
       "      <td>Sunday</td>\n",
       "      <td>1.044746</td>\n",
       "    </tr>\n",
       "    <tr>\n",
       "      <th>4</th>\n",
       "      <td>43603</td>\n",
       "      <td>2017-12-31 14:23:14.0010</td>\n",
       "      <td>2018-01-01 02:29:57.5710</td>\n",
       "      <td>239</td>\n",
       "      <td>Bancroft Way at Telegraph Ave</td>\n",
       "      <td>37.868813</td>\n",
       "      <td>-122.258764</td>\n",
       "      <td>247</td>\n",
       "      <td>Fulton St at Bancroft Way</td>\n",
       "      <td>37.867789</td>\n",
       "      <td>-122.265896</td>\n",
       "      <td>3167</td>\n",
       "      <td>Subscriber</td>\n",
       "      <td>NaN</td>\n",
       "      <td>2017</td>\n",
       "      <td>12</td>\n",
       "      <td>14</td>\n",
       "      <td>Sunday</td>\n",
       "      <td>0.637772</td>\n",
       "    </tr>\n",
       "  </tbody>\n",
       "</table>\n",
       "</div>"
      ],
      "text/plain": [
       "   duration_sec                start_time                  end_time  \\\n",
       "0         80110  2017-12-31 16:57:39.6540  2018-01-01 15:12:50.2450   \n",
       "1         78800  2017-12-31 15:56:34.8420  2018-01-01 13:49:55.6170   \n",
       "2         45768  2017-12-31 22:45:48.4110  2018-01-01 11:28:36.8830   \n",
       "3         62172  2017-12-31 17:31:10.6360  2018-01-01 10:47:23.5310   \n",
       "4         43603  2017-12-31 14:23:14.0010  2018-01-01 02:29:57.5710   \n",
       "\n",
       "   start_station_id                                 start_station_name  \\\n",
       "0                74                              Laguna St at Hayes St   \n",
       "1               284  Yerba Buena Center for the Arts (Howard St at ...   \n",
       "2               245                             Downtown Berkeley BART   \n",
       "3                60                               8th St at Ringold St   \n",
       "4               239                      Bancroft Way at Telegraph Ave   \n",
       "\n",
       "   start_station_latitude  start_station_longitude  end_station_id  \\\n",
       "0               37.776435              -122.426244              43   \n",
       "1               37.784872              -122.400876              96   \n",
       "2               37.870348              -122.267764             245   \n",
       "3               37.774520              -122.409449               5   \n",
       "4               37.868813              -122.258764             247   \n",
       "\n",
       "                                    end_station_name  end_station_latitude  \\\n",
       "0  San Francisco Public Library (Grove St at Hyde...             37.778768   \n",
       "1                              Dolores St at 15th St             37.766210   \n",
       "2                             Downtown Berkeley BART             37.870348   \n",
       "3       Powell St BART Station (Market St at 5th St)             37.783899   \n",
       "4                          Fulton St at Bancroft Way             37.867789   \n",
       "\n",
       "   end_station_longitude  bike_id   user_type bike_share_for_all_trip  year  \\\n",
       "0            -122.415929       96    Customer                     NaN  2017   \n",
       "1            -122.426614       88    Customer                     NaN  2017   \n",
       "2            -122.267764     1094    Customer                     NaN  2017   \n",
       "3            -122.408445     2831    Customer                     NaN  2017   \n",
       "4            -122.265896     3167  Subscriber                     NaN  2017   \n",
       "\n",
       "   month  hour     day  distance  \n",
       "0     12    16  Sunday  0.944876  \n",
       "1     12    15  Sunday  3.071144  \n",
       "2     12    22  Sunday  0.000000  \n",
       "3     12    17  Sunday  1.044746  \n",
       "4     12    14  Sunday  0.637772  "
      ]
     },
     "execution_count": 57,
     "metadata": {},
     "output_type": "execute_result"
    }
   ],
   "source": [
    "df.head()"
   ]
  },
  {
   "cell_type": "code",
   "execution_count": 136,
   "metadata": {},
   "outputs": [],
   "source": [
    "df.to_csv('bikedatafull.csv')"
   ]
  },
  {
   "cell_type": "markdown",
   "metadata": {},
   "source": [
    "## Questions  \n",
    "Let us frame our questions before we start analysing our data\n",
    "- What is the average duration of each trip?\n",
    "- What is the average distance of each trip?\n",
    "- Which month has highest trips?\n",
    "- Which day has the highest number of trips?\n",
    "- Any difference in rides between weekdays and weekends?\n",
    "- Is there a difference between the trips of customers and subscribers?\n",
    "\n"
   ]
  },
  {
   "cell_type": "markdown",
   "metadata": {},
   "source": [
    "### Structure of the dataset-\n",
    "\n",
    "> Post processing, the data set has 1142896 entries with 20 columns. \n",
    "\n",
    "### The main feature(s) of interest in the dataset-\n",
    "\n",
    "> The main features of interest in the dataset given is the duration in seconds, the and the number of trips per month, day and hour of the day \n",
    "\n",
    "### Features in the dataset that might help support investigation-\n",
    "\n",
    "> The user_type as well as the distance will mostly support the investigation"
   ]
  },
  {
   "cell_type": "code",
   "execution_count": null,
   "metadata": {},
   "outputs": [],
   "source": []
  },
  {
   "cell_type": "markdown",
   "metadata": {},
   "source": [
    "## Univariate Analysis"
   ]
  },
  {
   "cell_type": "code",
   "execution_count": 93,
   "metadata": {},
   "outputs": [
    {
     "data": {
      "image/png": "[encoded data removed]",
      "text/plain": [
       "<Figure size 1440x720 with 3 Axes>"
      ]
     },
     "metadata": {
      "needs_background": "light"
     },
     "output_type": "display_data"
    }
   ],
   "source": [
    "fig = plt.figure(figsize=(20,10))\n",
    "ax1 = plt.subplot(1,3,1)\n",
    "plt.hist(df.duration_sec);\n",
    "\n",
    "ax2 = plt.subplot(1,3,2)\n",
    "bins = np.arange(0,2000,10)\n",
    "plt.hist(df.duration_sec,bins=bins);\n",
    "\n",
    "ax3 = plt.subplot(1,3,3)\n",
    "bins = np.arange(0,1001,1)\n",
    "plt.hist(df.duration_sec,bins=bins);\n",
    "\n",
    "ax1.set_xlabel('Duration in Seconds')\n",
    "ax1.set_ylabel('Count');\n",
    "\n",
    "ax2.set_xlabel('Duration in Seconds')\n",
    "ax2.set_ylabel('Count');\n",
    "\n",
    "ax3.set_xlabel('Duration in Seconds')\n",
    "ax3.set_ylabel('Count');\n",
    "plt.title('Histogram of duration');"
   ]
  },
  {
   "cell_type": "markdown",
   "metadata": {},
   "source": [
    "Here, we can clearly see with the help of the three plots above that the duration of the rides are skewed to the left, helping us understand that there are a large number of rides with time between 250-1500 seconds."
   ]
  },
  {
   "cell_type": "code",
   "execution_count": 95,
   "metadata": {},
   "outputs": [
    {
     "data": {
      "text/plain": [
       "Text(0.5, 1.0, 'Histogram of Distance')"
      ]
     },
     "execution_count": 95,
     "metadata": {},
     "output_type": "execute_result"
    },
    {
     "data": {
      "image/png": "[encoded data removed]",
      "text/plain": [
       "<Figure size 432x288 with 1 Axes>"
      ]
     },
     "metadata": {
      "needs_background": "light"
     },
     "output_type": "display_data"
    }
   ],
   "source": [
    "bins = np.arange(0,6+0.1,0.1)\n",
    "plt.hist(df.distance,bins=bins);\n",
    "plt.xlabel('Distance (kms)')\n",
    "plt.ylabel('count');\n",
    "plt.title('Histogram of Distance');"
   ]
  },
  {
   "cell_type": "markdown",
   "metadata": {},
   "source": [
    "Here too, we can see that the distribution of the distances for the rides are right skewed. This seems to be unimodal with a peak at around 1~1.3kms"
   ]
  },
  {
   "cell_type": "code",
   "execution_count": 94,
   "metadata": {},
   "outputs": [
    {
     "data": {
      "text/plain": [
       "Text(0.5, 1.0, 'Bar Plot of number of rides each day')"
      ]
     },
     "execution_count": 94,
     "metadata": {},
     "output_type": "execute_result"
    },
    {
     "data": {
      "image/png": "[encoded data removed]",
      "text/plain": [
       "<Figure size 432x288 with 1 Axes>"
      ]
     },
     "metadata": {
      "needs_background": "light"
     },
     "output_type": "display_data"
    }
   ],
   "source": [
    "#fig = plt.figure(figsize=(10,10))\n",
    "base_color = sb.color_palette()[0]\n",
    "sb.countplot(data = df,y = 'day',color = base_color, order = days_of_week)\n",
    "plt.title('Bar Plot of number of rides each day');"
   ]
  },
  {
   "cell_type": "markdown",
   "metadata": {},
   "source": [
    "This analysis gave us a clear picture that the number of rides on weekends is lesser than the number of rides in weekdays"
   ]
  },
  {
   "cell_type": "code",
   "execution_count": 96,
   "metadata": {},
   "outputs": [
    {
     "data": {
      "image/png": "[encoded data removed]",
      "text/plain": [
       "<Figure size 432x288 with 1 Axes>"
      ]
     },
     "metadata": {
      "needs_background": "light"
     },
     "output_type": "display_data"
    }
   ],
   "source": [
    "bin_edges = np.arange(1.5, 24.5+1, 1)\n",
    "plt.hist(df.hour, bins = bin_edges, rwidth = 0.7);\n",
    "plt.xticks(np.arange(1, 24+1, 1));\n",
    "plt.xlabel('Hours (24 hr format)')\n",
    "plt.ylabel('count');\n",
    "plt.title('Distribution of rides across the day');"
   ]
  },
  {
   "cell_type": "markdown",
   "metadata": {},
   "source": [
    "This is a clear bimodal distribution with peaks at 8 in the morning and at 5 in the evening. This trend must be analysed further!"
   ]
  },
  {
   "cell_type": "code",
   "execution_count": 155,
   "metadata": {},
   "outputs": [
    {
     "data": {
      "image/png": "[encoded data removed]",
      "text/plain": [
       "<Figure size 360x360 with 1 Axes>"
      ]
     },
     "metadata": {
      "needs_background": "light"
     },
     "output_type": "display_data"
    }
   ],
   "source": [
    "sb.catplot(x=\"month\", kind=\"count\",color = base_color, edgecolor=\".6\",data=df);\n",
    "plt.title('Distribution of rides across the year');"
   ]
  },
  {
   "cell_type": "code",
   "execution_count": 135,
   "metadata": {},
   "outputs": [
    {
     "data": {
      "text/plain": [
       "array(['Friday', 'Thursday', 'Wednesday'], dtype=object)"
      ]
     },
     "execution_count": 135,
     "metadata": {},
     "output_type": "execute_result"
    }
   ],
   "source": [
    "df.query('month == 6').day.unique()"
   ]
  },
  {
   "cell_type": "code",
   "execution_count": 134,
   "metadata": {},
   "outputs": [
    {
     "data": {
      "text/plain": [
       "array([30, 29, 28])"
      ]
     },
     "execution_count": 134,
     "metadata": {},
     "output_type": "execute_result"
    }
   ],
   "source": [
    "df.query('month == 6').date_day.unique()"
   ]
  },
  {
   "cell_type": "markdown",
   "metadata": {},
   "source": [
    "This plot clearly shows us that there is some data that has not been recorded in the 6th month of the year. The Data was extracted only for the last 3 days of June!!!"
   ]
  },
  {
   "cell_type": "markdown",
   "metadata": {},
   "source": [
    "### The distributions of variables of interest. \n",
    "\n",
    "> The distributions of the distance and the duration are left skewed. However no transformations are performed on these.  \n",
    "> The number of observations for the month of June was very low, and on further investigation showed that only data for 3 days was extracted\n",
    "\n",
    "### Unusual / Interesting distributions\n",
    "\n",
    "> Of the features investigated, the distribution of rides across the day was unique (clearly bimodal) and this is to be investigated further.   \n",
    "> Also, the number of rides on weekdays and weekends are clearly different"
   ]
  },
  {
   "cell_type": "code",
   "execution_count": 130,
   "metadata": {},
   "outputs": [],
   "source": [
    "# station_pairs = []\n",
    "# for i in range(df.shape[0]):\n",
    "#     temp = str(df.iloc[i].start_station_id) + '-' + str(df.iloc[i].end_station_id)\n",
    "#     station_pairs.append(temp)\n",
    "    "
   ]
  },
  {
   "cell_type": "markdown",
   "metadata": {},
   "source": [
    "## Bivariate Analysis"
   ]
  },
  {
   "cell_type": "code",
   "execution_count": 113,
   "metadata": {},
   "outputs": [
    {
     "data": {
      "image/png": "[encoded data removed]",
      "text/plain": [
       "<Figure size 432x288 with 1 Axes>"
      ]
     },
     "metadata": {
      "needs_background": "light"
     },
     "output_type": "display_data"
    }
   ],
   "source": [
    "base_color = sb.color_palette()[0]\n",
    "sb.barplot(data = df, x = 'month', y = 'duration_sec', color = base_color);\n",
    "plt.ylabel('average duration');"
   ]
  },
  {
   "cell_type": "markdown",
   "metadata": {},
   "source": [
    "From this we see that the average duration of the trips is maximum in July.  \n",
    "Also, there is maximum error on the month of June because of the lesser number of observations"
   ]
  },
  {
   "cell_type": "code",
   "execution_count": 115,
   "metadata": {},
   "outputs": [
    {
     "data": {
      "image/png": "[encoded data removed]",
      "text/plain": [
       "<Figure size 432x288 with 1 Axes>"
      ]
     },
     "metadata": {
      "needs_background": "light"
     },
     "output_type": "display_data"
    }
   ],
   "source": [
    "base_color = sb.color_palette()[0]\n",
    "sb.barplot(data = df, x = 'month', y = 'distance',color = base_color);\n",
    "plt.ylabel('average distance');"
   ]
  },
  {
   "cell_type": "markdown",
   "metadata": {},
   "source": [
    "The average distance is almost equal for all months. This does not give much insight into the data"
   ]
  },
  {
   "cell_type": "code",
   "execution_count": 119,
   "metadata": {},
   "outputs": [
    {
     "data": {
      "image/png": "[encoded data removed]",
      "text/plain": [
       "<Figure size 432x288 with 1 Axes>"
      ]
     },
     "metadata": {
      "needs_background": "light"
     },
     "output_type": "display_data"
    }
   ],
   "source": [
    "base_color = sb.color_palette()[0]\n",
    "sb.barplot(data = df, x = 'day', y = 'duration_sec',color = base_color);\n",
    "plt.ylabel('average duration');"
   ]
  },
  {
   "cell_type": "markdown",
   "metadata": {},
   "source": [
    "There is a clear difference in the mean duration of rides in weekdays and weekends, with the weekends in general having longer rides"
   ]
  },
  {
   "cell_type": "code",
   "execution_count": 156,
   "metadata": {},
   "outputs": [
    {
     "data": {
      "image/png": "[encoded data removed]",
      "text/plain": [
       "<Figure size 432x288 with 1 Axes>"
      ]
     },
     "metadata": {
      "needs_background": "light"
     },
     "output_type": "display_data"
    }
   ],
   "source": [
    "base_color = sb.color_palette()[0]\n",
    "sb.barplot(data = df, x = 'day', y = 'distance',color = base_color);\n",
    "plt.ylabel('average distance');"
   ]
  },
  {
   "cell_type": "markdown",
   "metadata": {},
   "source": [
    "From this graph we can see that there is a small difference in the average distance of trips in weekdays and weekends, with the weekends being slightly lesser"
   ]
  },
  {
   "cell_type": "code",
   "execution_count": 110,
   "metadata": {},
   "outputs": [
    {
     "data": {
      "image/png": "[encoded data removed]",
      "text/plain": [
       "<Figure size 432x288 with 1 Axes>"
      ]
     },
     "metadata": {
      "needs_background": "light"
     },
     "output_type": "display_data"
    }
   ],
   "source": [
    "df_temp = df.query('distance != 0')\n",
    "plt.scatter(data = df_temp, x = 'duration_sec', y = 'distance',alpha=1/20);\n",
    "plt.xlabel('Duration (seconds)')\n",
    "plt.ylabel('Distance (kms)');"
   ]
  },
  {
   "cell_type": "markdown",
   "metadata": {},
   "source": [
    "For the same distance, there is a huge variation in duration. We can't decipher a clear relationship between these two variables from this graph."
   ]
  },
  {
   "cell_type": "code",
   "execution_count": 140,
   "metadata": {},
   "outputs": [
    {
     "data": {
      "image/png": "[encoded data removed]",
      "text/plain": [
       "<Figure size 449.125x360 with 1 Axes>"
      ]
     },
     "metadata": {
      "needs_background": "light"
     },
     "output_type": "display_data"
    }
   ],
   "source": [
    "#bin_edges = np.arange(1.5, 24.5+1, 1)\n",
    "sb.catplot(x=\"hour\", hue=\"user_type\", kind=\"count\",palette=\"pastel\", edgecolor=\".6\",data=df);\n",
    "plt.title('Distribution of rides across the day');"
   ]
  },
  {
   "cell_type": "markdown",
   "metadata": {},
   "source": [
    "This graph is really important as it shows us that the bimodality seen in the univatiate analysis is due to Subscribers predominantly."
   ]
  },
  {
   "cell_type": "markdown",
   "metadata": {},
   "source": [
    "### Unusual / Interesting relationships\n",
    "\n",
    "> The relationship between the type of user and the distribution of rides across the day is very interesting\n",
    "> The relationship between the day of the week and the average duration of the ride is really interesting"
   ]
  },
  {
   "cell_type": "markdown",
   "metadata": {},
   "source": [
    "## Multivariate Analysis"
   ]
  },
  {
   "cell_type": "code",
   "execution_count": 142,
   "metadata": {},
   "outputs": [
    {
     "data": {
      "image/png": "[encoded data removed]",
      "text/plain": [
       "<Figure size 432x288 with 1 Axes>"
      ]
     },
     "metadata": {
      "needs_background": "light"
     },
     "output_type": "display_data"
    }
   ],
   "source": [
    "base_color = sb.color_palette()[0]\n",
    "sb.barplot(data = df, x = 'month', y = 'duration_sec', hue=\"user_type\");\n",
    "plt.ylabel('average duration');"
   ]
  },
  {
   "cell_type": "markdown",
   "metadata": {},
   "source": [
    "This graph clearly shows us that the average duration of the rides is very different for customers and subscribers.\n",
    "The subscribers' ride times are much lesser on average"
   ]
  },
  {
   "cell_type": "code",
   "execution_count": 144,
   "metadata": {},
   "outputs": [
    {
     "data": {
      "image/png": "[encoded data removed]",
      "text/plain": [
       "<Figure size 432x288 with 1 Axes>"
      ]
     },
     "metadata": {
      "needs_background": "light"
     },
     "output_type": "display_data"
    }
   ],
   "source": [
    "base_color = sb.color_palette()[0]\n",
    "sb.barplot(data = df, x = 'month', y = 'distance', hue=\"user_type\");\n",
    "plt.ylabel('average distance');"
   ]
  },
  {
   "cell_type": "markdown",
   "metadata": {},
   "source": [
    "In continuation with the observation from the previous graph, we can see that the average distance travelled by both customers and subscribers are the same. Yet, the average time is lesser for the latter"
   ]
  },
  {
   "cell_type": "code",
   "execution_count": 149,
   "metadata": {},
   "outputs": [
    {
     "data": {
      "image/png": "[encoded data removed]",
      "text/plain": [
       "<Figure size 432x288 with 1 Axes>"
      ]
     },
     "metadata": {
      "needs_background": "light"
     },
     "output_type": "display_data"
    }
   ],
   "source": [
    "base_color = sb.color_palette()[0]\n",
    "sb.barplot(data = df, x = 'day', y = 'duration_sec', hue=\"user_type\");\n",
    "plt.ylabel('average duration');"
   ]
  },
  {
   "cell_type": "markdown",
   "metadata": {},
   "source": [
    "Now considering the average duration w.r.t days of the week, we see the same trend as in observation 1 of multi-variate analysis."
   ]
  },
  {
   "cell_type": "code",
   "execution_count": 160,
   "metadata": {},
   "outputs": [
    {
     "data": {
      "image/png": "[encoded data removed]",
      "text/plain": [
       "<Figure size 432x288 with 1 Axes>"
      ]
     },
     "metadata": {
      "needs_background": "light"
     },
     "output_type": "display_data"
    }
   ],
   "source": [
    "base_color = sb.color_palette()[0]\n",
    "sb.barplot(data = df, x = 'hour', y = 'duration_sec', hue=\"user_type\");\n",
    "plt.ylabel('average dist');"
   ]
  },
  {
   "cell_type": "markdown",
   "metadata": {},
   "source": [
    "Along the same lines, it is interesting to note that the duration of the ride is lesser for subscribers at any time of the day on average"
   ]
  },
  {
   "cell_type": "markdown",
   "metadata": {},
   "source": [
    "### Unusual / Interesting relationships\n",
    "\n",
    "> The relationship between the type of user and the duration of rides across the year/week/day is very interesting  \n",
    "> Even for subscribers, the duration of trips in weekends is longer on average"
   ]
  },
  {
   "cell_type": "code",
   "execution_count": null,
   "metadata": {},
   "outputs": [],
   "source": []
  }
 ],
 "metadata": {
  "kernelspec": {
   "display_name": "Python 3",
   "language": "python",
   "name": "python3"
  },
  "language_info": {
   "codemirror_mode": {
    "name": "ipython",
    "version": 3
   },
   "file_extension": ".py",
   "mimetype": "text/x-python",
   "name": "python",
   "nbconvert_exporter": "python",
   "pygments_lexer": "ipython3",
   "version": "3.6.10"
  }
 },
 "nbformat": 4,
 "nbformat_minor": 4
}
